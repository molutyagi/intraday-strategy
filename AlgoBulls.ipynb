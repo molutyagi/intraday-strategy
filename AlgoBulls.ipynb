{
 "cells": [
  {
   "cell_type": "code",
   "execution_count": 24,
   "id": "a6d4eb96",
   "metadata": {},
   "outputs": [
    {
     "data": {
      "text/html": [
       "<h1>Introduction</h1>\n",
       "<h3>Trading Strategy Backtesting with Python</h3>\n",
       "<p>This is a a simple Intraday Trading Strategy Algorithm, which uses <a href=\"https://pypi.org/project/alpha-vantage/\"> alpha_vantage API module </a> of <a href=\"https://www.alphavantage.co/\"> Alpha Vantage</a>. Here all the data is fetched using Timeseries method developed by Alpha Vantage</p>\n",
       "<p>\n",
       "In this Jupyter notebook, we will explore how to build and backtest a simple trading strategy using Python. The strategy will be based on a simple technical analysis indicator, and we will use the Alpha Vantage API to fetch historical intraday data for a given stock.\n",
       "\n",
       "We will first define the necessary classes and functions to fetch and preprocess the data, generate buy/sell signals based on our strategy, and plot a candlestick chart with our strategy overlaid on top. Then, we will run the strategy for a specific stock and examine the resulting signals and chart.\n",
       "\n",
       "This notebook assumes some prior knowledge of Python and financial markets. Let's get started! </p>\n"
      ],
      "text/plain": [
       "<IPython.core.display.HTML object>"
      ]
     },
     "metadata": {},
     "output_type": "display_data"
    }
   ],
   "source": [
    "%%HTML\n",
    "<h1>Introduction</h1>\n",
    "<h3>Trading Strategy Backtesting with Python</h3>\n",
    "<p>This is a a simple Intraday Trading Strategy Algorithm, which uses <a href=\"https://pypi.org/project/alpha-vantage/\"> alpha_vantage API module </a> of <a href=\"https://www.alphavantage.co/\"> Alpha Vantage</a>. Here all the data is fetched using Timeseries method developed by Alpha Vantage</p>\n",
    "<p>\n",
    "In this Jupyter notebook, we will explore how to build and backtest a simple trading strategy using Python. The strategy will be based on a simple technical analysis indicator, and we will use the Alpha Vantage API to fetch historical intraday data for a given stock.\n",
    "\n",
    "We will first define the necessary classes and functions to fetch and preprocess the data, generate buy/sell signals based on our strategy, and plot a candlestick chart with our strategy overlaid on top. Then, we will run the strategy for a specific stock and examine the resulting signals and chart.\n",
    "\n",
    "This notebook assumes some prior knowledge of Python and financial markets. Let's get started! </p>"
   ]
  },
  {
   "cell_type": "code",
   "execution_count": 25,
   "id": "8bae0ca6",
   "metadata": {},
   "outputs": [
    {
     "data": {
      "text/html": [
       "<h1>Import Statements </h1>\n"
      ],
      "text/plain": [
       "<IPython.core.display.HTML object>"
      ]
     },
     "metadata": {},
     "output_type": "display_data"
    }
   ],
   "source": [
    "%%HTML\n",
    "<h1>Import Statements </h1>"
   ]
  },
  {
   "cell_type": "code",
   "execution_count": 26,
   "id": "86e80bc2",
   "metadata": {},
   "outputs": [],
   "source": [
    "import pandas as pd\n",
    "import numpy as np\n",
    "from alpha_vantage.timeseries import TimeSeries\n",
    "import plotly.graph_objects as go\n",
    "from dotenv import load_dotenv\n",
    "import os"
   ]
  },
  {
   "cell_type": "code",
   "execution_count": 27,
   "id": "6067628f",
   "metadata": {},
   "outputs": [],
   "source": [
    "load_dotenv()\n",
    "api_key = os.getenv(\"API_KEY\")"
   ]
  },
  {
   "cell_type": "code",
   "execution_count": 28,
   "id": "c9252568",
   "metadata": {},
   "outputs": [
    {
     "data": {
      "text/html": [
       "<h1> Class ScriptData </h1>\n",
       "<p>This Class to store and manage the intraday data of a script.</p>\n",
       "<h3> Method fetch intraday data </h3>\n",
       "<p>This method fetches the intraday data of the given script from the API</p>\n",
       "<h3> Method convert intraday data </h3>\n",
       "<p>This method converts the fetched intraday data of the given script in proper usable form and stores it in Dataframe.</p>\n"
      ],
      "text/plain": [
       "<IPython.core.display.HTML object>"
      ]
     },
     "metadata": {},
     "output_type": "display_data"
    }
   ],
   "source": [
    "%%HTML\n",
    "<h1> Class ScriptData </h1>\n",
    "<p>This Class to store and manage the intraday data of a script.</p>\n",
    "<h3> Method fetch intraday data </h3>\n",
    "<p>This method fetches the intraday data of the given script from the API</p>\n",
    "<h3> Method convert intraday data </h3>\n",
    "<p>This method converts the fetched intraday data of the given script in proper usable form and stores it in Dataframe.</p>"
   ]
  },
  {
   "cell_type": "code",
   "execution_count": 29,
   "id": "c09b943a",
   "metadata": {},
   "outputs": [],
   "source": [
    "\n",
    "class ScriptData:\n",
    "    def __init__(self, api_key):\n",
    "        self.api_key = api_key\n",
    "        self.intraday_data = {}\n",
    "\n",
    "    def fetch_intraday_data(self, script):\n",
    "        ts = TimeSeries(key=self.api_key, output_format='pandas')\n",
    "        self.intraday_data[script], meta_data = ts.get_intraday(symbol=script, interval='60min', outputsize='full')\n",
    "\n",
    "    def convert_intraday_data(self, script):\n",
    "        data = self.intraday_data[script]\n",
    "        data.reset_index(inplace=True)\n",
    "        data.columns = ['timestamp', 'open', 'high', 'low', 'close', 'volume']\n",
    "        data['timestamp'] = pd.to_datetime(data['timestamp'])\n",
    "        data[['open', 'high', 'low', 'close', 'volume']] = data[['open', 'high', 'low', 'close', 'volume']].astype(\n",
    "            float)\n",
    "        data['volume'] = data['volume'].astype(int)\n",
    "        self.intraday_data[script] = data\n",
    "\n",
    "    def __getitem__(self, script):\n",
    "        return self.intraday_data[script]\n",
    "\n",
    "    def __setitem__(self, script, value):\n",
    "        self.intraday_data[script] = value\n",
    "\n",
    "    def __contains__(self, script):\n",
    "        return script in self.intraday_data"
   ]
  },
  {
   "cell_type": "code",
   "execution_count": 30,
   "id": "e5ee6116",
   "metadata": {},
   "outputs": [
    {
     "data": {
      "text/html": [
       "<h1> Function Indicator </h1>\n",
       "<p>Calculates the simple moving average of the close price and stores the timestamp and indicator only in DF.</p>\n"
      ],
      "text/plain": [
       "<IPython.core.display.HTML object>"
      ]
     },
     "metadata": {},
     "output_type": "display_data"
    }
   ],
   "source": [
    "%%HTML\n",
    "<h1> Function Indicator </h1>\n",
    "<p>Calculates the simple moving average of the close price and stores the timestamp and indicator only in DF.</p>"
   ]
  },
  {
   "cell_type": "code",
   "execution_count": 31,
   "id": "e20c9209",
   "metadata": {},
   "outputs": [],
   "source": [
    "def indicator1(df, timeperiod=15):\n",
    "    ma = df['close'].rolling(window=timeperiod).mean()\n",
    "    result = pd.DataFrame({'timestamp': df['timestamp'], 'indicator': ma})\n",
    "    return result\n"
   ]
  },
  {
   "cell_type": "code",
   "execution_count": 32,
   "id": "8e3fe260",
   "metadata": {},
   "outputs": [
    {
     "data": {
      "text/html": [
       "<h1> Class Strategy </h1>\n",
       "<p>This Class to implement the trading strategy.</p>\n",
       "\n",
       "<h1> Method Fetch Data </h1>\n",
       "<p>This method fetches the intraday data of the given script from the API, converts the fetched intraday data of the given script in proper usable form and stores it in Dataframe and finally uses the indicator function to return and store the usable data only.</p>\n",
       "\n",
       "<h1> Method Generate Signals </h1>\n",
       "<p>This method uses the data returned by above method to generate Buy/Sell signals and refactors the complete data into only the necessary data.</p>\n",
       "\n",
       "<h1> Method Plot Candelstick Chart </h1>\n",
       "<p>This method takes the data returned from above methods and the complete data and compare both then plot a candlestick chart of them.</p>\n",
       "\n",
       "<h1> Method Run </h1>\n",
       "<p>This method is created so you dont have to call all the methods one by one. You just need to call the strategy class and then call the run method.</p>\n"
      ],
      "text/plain": [
       "<IPython.core.display.HTML object>"
      ]
     },
     "metadata": {},
     "output_type": "display_data"
    }
   ],
   "source": [
    "%%HTML\n",
    "<h1> Class Strategy </h1>\n",
    "<p>This Class to implement the trading strategy.</p>\n",
    "\n",
    "<h1> Method Fetch Data </h1>\n",
    "<p>This method fetches the intraday data of the given script from the API, converts the fetched intraday data of the given script in proper usable form and stores it in Dataframe and finally uses the indicator function to return and store the usable data only.</p>\n",
    "\n",
    "<h1> Method Generate Signals </h1>\n",
    "<p>This method uses the data returned by above method to generate Buy/Sell signals and refactors the complete data into only the necessary data.</p>\n",
    "\n",
    "<h1> Method Plot Candelstick Chart </h1>\n",
    "<p>This method takes the data returned from above methods and the complete data and compare both then plot a candlestick chart of them.</p>\n",
    "\n",
    "<h1> Method Run </h1>\n",
    "<p>This method is created so you dont have to call all the methods one by one. You just need to call the strategy class and then call the run method.</p>\n"
   ]
  },
  {
   "cell_type": "code",
   "execution_count": 33,
   "id": "27bb2fd0",
   "metadata": {},
   "outputs": [],
   "source": [
    "\n",
    "class Strategy:\n",
    "    def __init__(self, script):\n",
    "        self.script = script\n",
    "        self.script_data = ScriptData(api_key)\n",
    "\n",
    "    def fetch_data(self):\n",
    "        self.script_data.fetch_intraday_data(self.script)\n",
    "        self.script_data.convert_intraday_data(self.script)\n",
    "        self.df = self.script_data[self.script]\n",
    "        self.indicator_data = indicator1(self.df)\n",
    "        self.close_data = self.df['close']\n",
    "        self.indicator_data = indicator1(self.df)\n",
    "\n",
    "    def generate_signals(self):\n",
    "        self.fetch_data()\n",
    "        self.indicator_data['signal'] = np.where((self.indicator_data['indicator'] > self.close_data) & (\n",
    "                self.indicator_data['indicator'].shift(1) <= self.close_data.shift(1)), 'BUY',\n",
    "                                                 np.where((self.indicator_data['indicator'] < self.close_data) & (\n",
    "                                                         self.indicator_data['indicator'].shift(\n",
    "                                                             1) >= self.close_data.shift(1)),\n",
    "                                                          'SELL', 'NO_SIGNAL'))\n",
    "\n",
    "        dropind = self.indicator_data[self.indicator_data['signal'] == 'NO_SIGNAL'].index\n",
    "        self.indicator_data.drop(dropind, inplace=True)\n",
    "        self.df.drop(dropind, inplace=True)\n",
    "\n",
    "        self.signals = self.indicator_data[\n",
    "            (self.indicator_data['signal'] == 'BUY') | (self.indicator_data['signal'] == 'SELL')]\n",
    "        self.signals.reset_index(inplace=True)\n",
    "        self.signals = self.signals.drop(columns=['index', 'indicator'])\n",
    "        \n",
    "    def plot_candlestick_chart(self, df, indicator_data):\n",
    "        fig = go.Figure(\n",
    "            data=[\n",
    "                go.Candlestick(x=df['timestamp'], open=df['open'], high=df['high'], low=df['low'], close=df['close'])])\n",
    "        fig.add_trace(go.Scatter(x=indicator_data['timestamp'], y=indicator_data['indicator'], line=dict(color='grey')))\n",
    "        fig.show()\n",
    "\n",
    "    def run(self):\n",
    "        self.generate_signals()\n",
    "        print(self.signals)\n",
    "        self.plot_candlestick_chart(self.df, self.indicator_data)"
   ]
  },
  {
   "cell_type": "code",
   "execution_count": 34,
   "id": "86d3ce70",
   "metadata": {},
   "outputs": [
    {
     "data": {
      "text/html": [
       "<h1> Example </h1>\n",
       "<p>Here is an example, just call the strategy class with your script as an input and then call the run method on the class. Thats it.</p>\n"
      ],
      "text/plain": [
       "<IPython.core.display.HTML object>"
      ]
     },
     "metadata": {},
     "output_type": "display_data"
    }
   ],
   "source": [
    "%%HTML\n",
    "<h1> Example </h1>\n",
    "<p>Here is an example, just call the strategy class with your script as an input and then call the run method on the class. Thats it.</p>"
   ]
  },
  {
   "cell_type": "code",
   "execution_count": 35,
   "id": "08b8e189",
   "metadata": {},
   "outputs": [
    {
     "name": "stdout",
     "output_type": "stream",
     "text": [
      "             timestamp signal\n",
      "0  2023-02-13 19:00:00    BUY\n",
      "1  2023-02-13 14:00:00   SELL\n",
      "2  2023-02-13 11:00:00    BUY\n",
      "3  2023-02-13 10:00:00   SELL\n",
      "4  2023-02-13 09:00:00    BUY\n",
      "..                 ...    ...\n",
      "60 2022-12-22 15:00:00    BUY\n",
      "61 2022-12-22 10:00:00   SELL\n",
      "62 2022-12-21 12:00:00    BUY\n",
      "63 2022-12-21 11:00:00   SELL\n",
      "64 2022-12-21 10:00:00    BUY\n",
      "\n",
      "[65 rows x 2 columns]\n"
     ]
    },
    {
     "data": {
      "application/vnd.plotly.v1+json": {
       "config": {
        "plotlyServerURL": "https://plot.ly"
       },
       "data": [
        {
         "close": [
          271.38,
          272.22,
          271.67,
          272.49,
          266.105,
          263.4,
          268.07,
          269.7098,
          269.82,
          258.0001,
          261.48,
          264.3317,
          261.59,
          247.84,
          246.62,
          242.94,
          247.2,
          247.74,
          246.17,
          239.6,
          241.94,
          242.71,
          242.1,
          242.6201,
          242.62,
          233.85,
          233.23,
          232.8901,
          239.5,
          239.25,
          239.07,
          239.24,
          238.13,
          237.82,
          237.31,
          229.9,
          228.6,
          227.92,
          226.15,
          225.25,
          222.23,
          224.28,
          222.24,
          223.105,
          227.97,
          228.85,
          227.58,
          229.01,
          240.2,
          239.9,
          239.84,
          236.86,
          236.96,
          237.28,
          236.83,
          238.79,
          238.19,
          238.34,
          237,
          238.15,
          236.799,
          239.48,
          243.67,
          244.37,
          242.1432
         ],
         "high": [
          271.44,
          272.52,
          273,
          272.61,
          267.45,
          263.6499,
          268.1,
          270.25,
          270.02,
          258.25,
          264.69,
          264.55,
          261.88,
          247.95,
          247.0399,
          244.1099,
          247.68,
          248.05,
          246.45,
          240.45,
          243.28,
          242.76,
          242.61,
          242.8,
          243.37,
          234.4,
          233.99,
          235.52,
          239.73,
          239.25,
          239.08,
          239.28,
          238.47,
          238.76,
          239.1386,
          230.97,
          228.639,
          229.98,
          226.72,
          225.99,
          222.28,
          224.68,
          223.67,
          224.78,
          229.76,
          229.7999,
          229.47,
          233.91,
          240.2,
          239.9,
          239.97,
          236.98,
          237.73,
          238.4287,
          239.79,
          240.02,
          238.245,
          240.87,
          237.7,
          238.19,
          236.87,
          241.99,
          245.39,
          244.51,
          243.68
         ],
         "low": [
          271.25,
          271.16,
          270.89,
          266,
          262.443,
          263.1,
          267.5499,
          268.52,
          269,
          258,
          260.93,
          261.32,
          260.6402,
          245.99,
          246.5434,
          242.62,
          247.14,
          247.63,
          244.45,
          238.6001,
          241.5,
          242.1,
          242.1,
          242.58,
          240.58,
          232.9,
          231.59,
          231.94,
          238.92,
          239,
          239.01,
          239,
          237.34,
          237.8,
          234.63,
          227.2,
          225.8,
          227.775,
          225.63,
          221.4,
          221.41,
          223.03,
          222.24,
          223.08,
          227.96,
          226.73,
          226,
          228.295,
          239.92,
          239.79,
          237.71,
          235.2513,
          236.44,
          236.86,
          235.83,
          238.134,
          237.21,
          236.82,
          237,
          237.56,
          235.02,
          238.95,
          243.48,
          241.92,
          240.11
         ],
         "open": [
          271.35,
          272.31,
          272.49,
          266.06,
          266.6,
          263.23,
          267.5499,
          269.65,
          269.35,
          258.22,
          264.35,
          261.61,
          261.41,
          246.61,
          246.68,
          243.67,
          247.15,
          248,
          244.72,
          240.38,
          242.3334,
          242.21,
          242.61,
          242.77,
          241.6,
          233.22,
          231.65,
          234.36,
          239.36,
          239,
          239.02,
          239.26,
          237.6,
          238.74,
          234.7,
          228.79,
          226.4453,
          229.16,
          225.8,
          221.71,
          221.93,
          223.58,
          223.11,
          224.19,
          228.86,
          227.555,
          228.98,
          232.86,
          240,
          239.79,
          238.07,
          235.76,
          236.63,
          237.54,
          238.85,
          240.0199,
          237.44,
          238.23,
          237.64,
          237.56,
          235.02,
          240.65,
          244.39,
          242.15,
          242.59
         ],
         "type": "candlestick",
         "x": [
          "2023-02-13T19:00:00",
          "2023-02-13T14:00:00",
          "2023-02-13T11:00:00",
          "2023-02-13T10:00:00",
          "2023-02-13T09:00:00",
          "2023-02-09T20:00:00",
          "2023-02-08T20:00:00",
          "2023-02-08T13:00:00",
          "2023-02-07T20:00:00",
          "2023-02-03T20:00:00",
          "2023-02-02T15:00:00",
          "2023-02-02T14:00:00",
          "2023-02-02T13:00:00",
          "2023-01-31T16:00:00",
          "2023-01-31T15:00:00",
          "2023-01-30T13:00:00",
          "2023-01-27T08:00:00",
          "2023-01-26T17:00:00",
          "2023-01-26T15:00:00",
          "2023-01-24T20:00:00",
          "2023-01-24T09:00:00",
          "2023-01-24T08:00:00",
          "2023-01-24T07:00:00",
          "2023-01-23T18:00:00",
          "2023-01-23T11:00:00",
          "2023-01-19T15:00:00",
          "2023-01-19T14:00:00",
          "2023-01-19T10:00:00",
          "2023-01-17T13:00:00",
          "2023-01-13T20:00:00",
          "2023-01-13T19:00:00",
          "2023-01-13T18:00:00",
          "2023-01-13T15:00:00",
          "2023-01-13T07:00:00",
          "2023-01-12T11:00:00",
          "2023-01-10T10:00:00",
          "2023-01-10T09:00:00",
          "2023-01-09T15:00:00",
          "2023-01-09T09:00:00",
          "2023-01-06T09:00:00",
          "2023-01-06T08:00:00",
          "2023-01-05T15:00:00",
          "2023-01-05T13:00:00",
          "2023-01-05T12:00:00",
          "2023-01-04T13:00:00",
          "2023-01-04T12:00:00",
          "2023-01-04T11:00:00",
          "2023-01-04T10:00:00",
          "2022-12-30T20:00:00",
          "2022-12-30T07:00:00",
          "2022-12-29T11:00:00",
          "2022-12-28T13:00:00",
          "2022-12-27T16:00:00",
          "2022-12-27T13:00:00",
          "2022-12-27T10:00:00",
          "2022-12-27T09:00:00",
          "2022-12-23T15:00:00",
          "2022-12-23T09:00:00",
          "2022-12-22T20:00:00",
          "2022-12-22T18:00:00",
          "2022-12-22T15:00:00",
          "2022-12-22T10:00:00",
          "2022-12-21T12:00:00",
          "2022-12-21T11:00:00",
          "2022-12-21T10:00:00"
         ]
        },
        {
         "line": {
          "color": "grey"
         },
         "type": "scatter",
         "x": [
          "2023-02-13T19:00:00",
          "2023-02-13T14:00:00",
          "2023-02-13T11:00:00",
          "2023-02-13T10:00:00",
          "2023-02-13T09:00:00",
          "2023-02-09T20:00:00",
          "2023-02-08T20:00:00",
          "2023-02-08T13:00:00",
          "2023-02-07T20:00:00",
          "2023-02-03T20:00:00",
          "2023-02-02T15:00:00",
          "2023-02-02T14:00:00",
          "2023-02-02T13:00:00",
          "2023-01-31T16:00:00",
          "2023-01-31T15:00:00",
          "2023-01-30T13:00:00",
          "2023-01-27T08:00:00",
          "2023-01-26T17:00:00",
          "2023-01-26T15:00:00",
          "2023-01-24T20:00:00",
          "2023-01-24T09:00:00",
          "2023-01-24T08:00:00",
          "2023-01-24T07:00:00",
          "2023-01-23T18:00:00",
          "2023-01-23T11:00:00",
          "2023-01-19T15:00:00",
          "2023-01-19T14:00:00",
          "2023-01-19T10:00:00",
          "2023-01-17T13:00:00",
          "2023-01-13T20:00:00",
          "2023-01-13T19:00:00",
          "2023-01-13T18:00:00",
          "2023-01-13T15:00:00",
          "2023-01-13T07:00:00",
          "2023-01-12T11:00:00",
          "2023-01-10T10:00:00",
          "2023-01-10T09:00:00",
          "2023-01-09T15:00:00",
          "2023-01-09T09:00:00",
          "2023-01-06T09:00:00",
          "2023-01-06T08:00:00",
          "2023-01-05T15:00:00",
          "2023-01-05T13:00:00",
          "2023-01-05T12:00:00",
          "2023-01-04T13:00:00",
          "2023-01-04T12:00:00",
          "2023-01-04T11:00:00",
          "2023-01-04T10:00:00",
          "2022-12-30T20:00:00",
          "2022-12-30T07:00:00",
          "2022-12-29T11:00:00",
          "2022-12-28T13:00:00",
          "2022-12-27T16:00:00",
          "2022-12-27T13:00:00",
          "2022-12-27T10:00:00",
          "2022-12-27T09:00:00",
          "2022-12-23T15:00:00",
          "2022-12-23T09:00:00",
          "2022-12-22T20:00:00",
          "2022-12-22T18:00:00",
          "2022-12-22T15:00:00",
          "2022-12-22T10:00:00",
          "2022-12-21T12:00:00",
          "2022-12-21T11:00:00",
          "2022-12-21T10:00:00"
         ],
         "y": [
          272.0401533333333,
          271.82108666666664,
          272.1136466666666,
          272.14726666666667,
          271.7222666666667,
          261.73333333333335,
          268.54533333333336,
          269.62198666666666,
          269.99031333333335,
          256.59033999999997,
          261.80033333333336,
          262.0604466666667,
          262.0724466666667,
          247.17266,
          247.13732666666664,
          242.85763333333333,
          247.67200666666668,
          247.68334,
          247.49200666666667,
          237.85902,
          242.0184133333333,
          242.47041333333334,
          242.88108,
          242.3684133333333,
          242.85233333333335,
          233.80168,
          233.46301333333335,
          232.36520666666667,
          240.17502,
          239.15435333333332,
          239.09102,
          239.02702000000002,
          238.74000000000004,
          237.79034,
          238.32887333333332,
          228.97899333333334,
          228.90832666666668,
          227.63732666666664,
          227.93448666666666,
          224.37447999999998,
          224.13314666666665,
          222.47248000000002,
          222.51033999999999,
          222.52934000000002,
          228.10522666666665,
          228.41522666666665,
          228.57989333333333,
          228.69389333333336,
          240.35026666666667,
          239.33406000000002,
          240.24562,
          235.99527333333333,
          236.99809999999997,
          237.11348666666666,
          237.07858666666667,
          237.17658666666665,
          238.5254533333333,
          238.23745333333332,
          237.87345333333332,
          237.80666666666667,
          237.70126666666664,
          237.47593333333333,
          243.86453333333336,
          244.19053333333335,
          244.28341333333336
         ]
        }
       ],
       "layout": {
        "template": {
         "data": {
          "bar": [
           {
            "error_x": {
             "color": "#2a3f5f"
            },
            "error_y": {
             "color": "#2a3f5f"
            },
            "marker": {
             "line": {
              "color": "#E5ECF6",
              "width": 0.5
             },
             "pattern": {
              "fillmode": "overlay",
              "size": 10,
              "solidity": 0.2
             }
            },
            "type": "bar"
           }
          ],
          "barpolar": [
           {
            "marker": {
             "line": {
              "color": "#E5ECF6",
              "width": 0.5
             },
             "pattern": {
              "fillmode": "overlay",
              "size": 10,
              "solidity": 0.2
             }
            },
            "type": "barpolar"
           }
          ],
          "carpet": [
           {
            "aaxis": {
             "endlinecolor": "#2a3f5f",
             "gridcolor": "white",
             "linecolor": "white",
             "minorgridcolor": "white",
             "startlinecolor": "#2a3f5f"
            },
            "baxis": {
             "endlinecolor": "#2a3f5f",
             "gridcolor": "white",
             "linecolor": "white",
             "minorgridcolor": "white",
             "startlinecolor": "#2a3f5f"
            },
            "type": "carpet"
           }
          ],
          "choropleth": [
           {
            "colorbar": {
             "outlinewidth": 0,
             "ticks": ""
            },
            "type": "choropleth"
           }
          ],
          "contour": [
           {
            "colorbar": {
             "outlinewidth": 0,
             "ticks": ""
            },
            "colorscale": [
             [
              0,
              "#0d0887"
             ],
             [
              0.1111111111111111,
              "#46039f"
             ],
             [
              0.2222222222222222,
              "#7201a8"
             ],
             [
              0.3333333333333333,
              "#9c179e"
             ],
             [
              0.4444444444444444,
              "#bd3786"
             ],
             [
              0.5555555555555556,
              "#d8576b"
             ],
             [
              0.6666666666666666,
              "#ed7953"
             ],
             [
              0.7777777777777778,
              "#fb9f3a"
             ],
             [
              0.8888888888888888,
              "#fdca26"
             ],
             [
              1,
              "#f0f921"
             ]
            ],
            "type": "contour"
           }
          ],
          "contourcarpet": [
           {
            "colorbar": {
             "outlinewidth": 0,
             "ticks": ""
            },
            "type": "contourcarpet"
           }
          ],
          "heatmap": [
           {
            "colorbar": {
             "outlinewidth": 0,
             "ticks": ""
            },
            "colorscale": [
             [
              0,
              "#0d0887"
             ],
             [
              0.1111111111111111,
              "#46039f"
             ],
             [
              0.2222222222222222,
              "#7201a8"
             ],
             [
              0.3333333333333333,
              "#9c179e"
             ],
             [
              0.4444444444444444,
              "#bd3786"
             ],
             [
              0.5555555555555556,
              "#d8576b"
             ],
             [
              0.6666666666666666,
              "#ed7953"
             ],
             [
              0.7777777777777778,
              "#fb9f3a"
             ],
             [
              0.8888888888888888,
              "#fdca26"
             ],
             [
              1,
              "#f0f921"
             ]
            ],
            "type": "heatmap"
           }
          ],
          "heatmapgl": [
           {
            "colorbar": {
             "outlinewidth": 0,
             "ticks": ""
            },
            "colorscale": [
             [
              0,
              "#0d0887"
             ],
             [
              0.1111111111111111,
              "#46039f"
             ],
             [
              0.2222222222222222,
              "#7201a8"
             ],
             [
              0.3333333333333333,
              "#9c179e"
             ],
             [
              0.4444444444444444,
              "#bd3786"
             ],
             [
              0.5555555555555556,
              "#d8576b"
             ],
             [
              0.6666666666666666,
              "#ed7953"
             ],
             [
              0.7777777777777778,
              "#fb9f3a"
             ],
             [
              0.8888888888888888,
              "#fdca26"
             ],
             [
              1,
              "#f0f921"
             ]
            ],
            "type": "heatmapgl"
           }
          ],
          "histogram": [
           {
            "marker": {
             "pattern": {
              "fillmode": "overlay",
              "size": 10,
              "solidity": 0.2
             }
            },
            "type": "histogram"
           }
          ],
          "histogram2d": [
           {
            "colorbar": {
             "outlinewidth": 0,
             "ticks": ""
            },
            "colorscale": [
             [
              0,
              "#0d0887"
             ],
             [
              0.1111111111111111,
              "#46039f"
             ],
             [
              0.2222222222222222,
              "#7201a8"
             ],
             [
              0.3333333333333333,
              "#9c179e"
             ],
             [
              0.4444444444444444,
              "#bd3786"
             ],
             [
              0.5555555555555556,
              "#d8576b"
             ],
             [
              0.6666666666666666,
              "#ed7953"
             ],
             [
              0.7777777777777778,
              "#fb9f3a"
             ],
             [
              0.8888888888888888,
              "#fdca26"
             ],
             [
              1,
              "#f0f921"
             ]
            ],
            "type": "histogram2d"
           }
          ],
          "histogram2dcontour": [
           {
            "colorbar": {
             "outlinewidth": 0,
             "ticks": ""
            },
            "colorscale": [
             [
              0,
              "#0d0887"
             ],
             [
              0.1111111111111111,
              "#46039f"
             ],
             [
              0.2222222222222222,
              "#7201a8"
             ],
             [
              0.3333333333333333,
              "#9c179e"
             ],
             [
              0.4444444444444444,
              "#bd3786"
             ],
             [
              0.5555555555555556,
              "#d8576b"
             ],
             [
              0.6666666666666666,
              "#ed7953"
             ],
             [
              0.7777777777777778,
              "#fb9f3a"
             ],
             [
              0.8888888888888888,
              "#fdca26"
             ],
             [
              1,
              "#f0f921"
             ]
            ],
            "type": "histogram2dcontour"
           }
          ],
          "mesh3d": [
           {
            "colorbar": {
             "outlinewidth": 0,
             "ticks": ""
            },
            "type": "mesh3d"
           }
          ],
          "parcoords": [
           {
            "line": {
             "colorbar": {
              "outlinewidth": 0,
              "ticks": ""
             }
            },
            "type": "parcoords"
           }
          ],
          "pie": [
           {
            "automargin": true,
            "type": "pie"
           }
          ],
          "scatter": [
           {
            "fillpattern": {
             "fillmode": "overlay",
             "size": 10,
             "solidity": 0.2
            },
            "type": "scatter"
           }
          ],
          "scatter3d": [
           {
            "line": {
             "colorbar": {
              "outlinewidth": 0,
              "ticks": ""
             }
            },
            "marker": {
             "colorbar": {
              "outlinewidth": 0,
              "ticks": ""
             }
            },
            "type": "scatter3d"
           }
          ],
          "scattercarpet": [
           {
            "marker": {
             "colorbar": {
              "outlinewidth": 0,
              "ticks": ""
             }
            },
            "type": "scattercarpet"
           }
          ],
          "scattergeo": [
           {
            "marker": {
             "colorbar": {
              "outlinewidth": 0,
              "ticks": ""
             }
            },
            "type": "scattergeo"
           }
          ],
          "scattergl": [
           {
            "marker": {
             "colorbar": {
              "outlinewidth": 0,
              "ticks": ""
             }
            },
            "type": "scattergl"
           }
          ],
          "scattermapbox": [
           {
            "marker": {
             "colorbar": {
              "outlinewidth": 0,
              "ticks": ""
             }
            },
            "type": "scattermapbox"
           }
          ],
          "scatterpolar": [
           {
            "marker": {
             "colorbar": {
              "outlinewidth": 0,
              "ticks": ""
             }
            },
            "type": "scatterpolar"
           }
          ],
          "scatterpolargl": [
           {
            "marker": {
             "colorbar": {
              "outlinewidth": 0,
              "ticks": ""
             }
            },
            "type": "scatterpolargl"
           }
          ],
          "scatterternary": [
           {
            "marker": {
             "colorbar": {
              "outlinewidth": 0,
              "ticks": ""
             }
            },
            "type": "scatterternary"
           }
          ],
          "surface": [
           {
            "colorbar": {
             "outlinewidth": 0,
             "ticks": ""
            },
            "colorscale": [
             [
              0,
              "#0d0887"
             ],
             [
              0.1111111111111111,
              "#46039f"
             ],
             [
              0.2222222222222222,
              "#7201a8"
             ],
             [
              0.3333333333333333,
              "#9c179e"
             ],
             [
              0.4444444444444444,
              "#bd3786"
             ],
             [
              0.5555555555555556,
              "#d8576b"
             ],
             [
              0.6666666666666666,
              "#ed7953"
             ],
             [
              0.7777777777777778,
              "#fb9f3a"
             ],
             [
              0.8888888888888888,
              "#fdca26"
             ],
             [
              1,
              "#f0f921"
             ]
            ],
            "type": "surface"
           }
          ],
          "table": [
           {
            "cells": {
             "fill": {
              "color": "#EBF0F8"
             },
             "line": {
              "color": "white"
             }
            },
            "header": {
             "fill": {
              "color": "#C8D4E3"
             },
             "line": {
              "color": "white"
             }
            },
            "type": "table"
           }
          ]
         },
         "layout": {
          "annotationdefaults": {
           "arrowcolor": "#2a3f5f",
           "arrowhead": 0,
           "arrowwidth": 1
          },
          "autotypenumbers": "strict",
          "coloraxis": {
           "colorbar": {
            "outlinewidth": 0,
            "ticks": ""
           }
          },
          "colorscale": {
           "diverging": [
            [
             0,
             "#8e0152"
            ],
            [
             0.1,
             "#c51b7d"
            ],
            [
             0.2,
             "#de77ae"
            ],
            [
             0.3,
             "#f1b6da"
            ],
            [
             0.4,
             "#fde0ef"
            ],
            [
             0.5,
             "#f7f7f7"
            ],
            [
             0.6,
             "#e6f5d0"
            ],
            [
             0.7,
             "#b8e186"
            ],
            [
             0.8,
             "#7fbc41"
            ],
            [
             0.9,
             "#4d9221"
            ],
            [
             1,
             "#276419"
            ]
           ],
           "sequential": [
            [
             0,
             "#0d0887"
            ],
            [
             0.1111111111111111,
             "#46039f"
            ],
            [
             0.2222222222222222,
             "#7201a8"
            ],
            [
             0.3333333333333333,
             "#9c179e"
            ],
            [
             0.4444444444444444,
             "#bd3786"
            ],
            [
             0.5555555555555556,
             "#d8576b"
            ],
            [
             0.6666666666666666,
             "#ed7953"
            ],
            [
             0.7777777777777778,
             "#fb9f3a"
            ],
            [
             0.8888888888888888,
             "#fdca26"
            ],
            [
             1,
             "#f0f921"
            ]
           ],
           "sequentialminus": [
            [
             0,
             "#0d0887"
            ],
            [
             0.1111111111111111,
             "#46039f"
            ],
            [
             0.2222222222222222,
             "#7201a8"
            ],
            [
             0.3333333333333333,
             "#9c179e"
            ],
            [
             0.4444444444444444,
             "#bd3786"
            ],
            [
             0.5555555555555556,
             "#d8576b"
            ],
            [
             0.6666666666666666,
             "#ed7953"
            ],
            [
             0.7777777777777778,
             "#fb9f3a"
            ],
            [
             0.8888888888888888,
             "#fdca26"
            ],
            [
             1,
             "#f0f921"
            ]
           ]
          },
          "colorway": [
           "#636efa",
           "#EF553B",
           "#00cc96",
           "#ab63fa",
           "#FFA15A",
           "#19d3f3",
           "#FF6692",
           "#B6E880",
           "#FF97FF",
           "#FECB52"
          ],
          "font": {
           "color": "#2a3f5f"
          },
          "geo": {
           "bgcolor": "white",
           "lakecolor": "white",
           "landcolor": "#E5ECF6",
           "showlakes": true,
           "showland": true,
           "subunitcolor": "white"
          },
          "hoverlabel": {
           "align": "left"
          },
          "hovermode": "closest",
          "mapbox": {
           "style": "light"
          },
          "paper_bgcolor": "white",
          "plot_bgcolor": "#E5ECF6",
          "polar": {
           "angularaxis": {
            "gridcolor": "white",
            "linecolor": "white",
            "ticks": ""
           },
           "bgcolor": "#E5ECF6",
           "radialaxis": {
            "gridcolor": "white",
            "linecolor": "white",
            "ticks": ""
           }
          },
          "scene": {
           "xaxis": {
            "backgroundcolor": "#E5ECF6",
            "gridcolor": "white",
            "gridwidth": 2,
            "linecolor": "white",
            "showbackground": true,
            "ticks": "",
            "zerolinecolor": "white"
           },
           "yaxis": {
            "backgroundcolor": "#E5ECF6",
            "gridcolor": "white",
            "gridwidth": 2,
            "linecolor": "white",
            "showbackground": true,
            "ticks": "",
            "zerolinecolor": "white"
           },
           "zaxis": {
            "backgroundcolor": "#E5ECF6",
            "gridcolor": "white",
            "gridwidth": 2,
            "linecolor": "white",
            "showbackground": true,
            "ticks": "",
            "zerolinecolor": "white"
           }
          },
          "shapedefaults": {
           "line": {
            "color": "#2a3f5f"
           }
          },
          "ternary": {
           "aaxis": {
            "gridcolor": "white",
            "linecolor": "white",
            "ticks": ""
           },
           "baxis": {
            "gridcolor": "white",
            "linecolor": "white",
            "ticks": ""
           },
           "bgcolor": "#E5ECF6",
           "caxis": {
            "gridcolor": "white",
            "linecolor": "white",
            "ticks": ""
           }
          },
          "title": {
           "x": 0.05
          },
          "xaxis": {
           "automargin": true,
           "gridcolor": "white",
           "linecolor": "white",
           "ticks": "",
           "title": {
            "standoff": 15
           },
           "zerolinecolor": "white",
           "zerolinewidth": 2
          },
          "yaxis": {
           "automargin": true,
           "gridcolor": "white",
           "linecolor": "white",
           "ticks": "",
           "title": {
            "standoff": 15
           },
           "zerolinecolor": "white",
           "zerolinewidth": 2
          }
         }
        }
       }
      },
      "text/html": [
       "<div>                            <div id=\"071b9c8a-b4c1-4e27-bba9-8a96e94bda74\" class=\"plotly-graph-div\" style=\"height:525px; width:100%;\"></div>            <script type=\"text/javascript\">                require([\"plotly\"], function(Plotly) {                    window.PLOTLYENV=window.PLOTLYENV || {};                                    if (document.getElementById(\"071b9c8a-b4c1-4e27-bba9-8a96e94bda74\")) {                    Plotly.newPlot(                        \"071b9c8a-b4c1-4e27-bba9-8a96e94bda74\",                        [{\"close\":[271.38,272.22,271.67,272.49,266.105,263.4,268.07,269.7098,269.82,258.0001,261.48,264.3317,261.59,247.84,246.62,242.94,247.2,247.74,246.17,239.6,241.94,242.71,242.1,242.6201,242.62,233.85,233.23,232.8901,239.5,239.25,239.07,239.24,238.13,237.82,237.31,229.9,228.6,227.92,226.15,225.25,222.23,224.28,222.24,223.105,227.97,228.85,227.58,229.01,240.2,239.9,239.84,236.86,236.96,237.28,236.83,238.79,238.19,238.34,237.0,238.15,236.799,239.48,243.67,244.37,242.1432],\"high\":[271.44,272.52,273.0,272.61,267.45,263.6499,268.1,270.25,270.02,258.25,264.69,264.55,261.88,247.95,247.0399,244.1099,247.68,248.05,246.45,240.45,243.28,242.76,242.61,242.8,243.37,234.4,233.99,235.52,239.73,239.25,239.08,239.28,238.47,238.76,239.1386,230.97,228.639,229.98,226.72,225.99,222.28,224.68,223.67,224.78,229.76,229.7999,229.47,233.91,240.2,239.9,239.97,236.98,237.73,238.4287,239.79,240.02,238.245,240.87,237.7,238.19,236.87,241.99,245.39,244.51,243.68],\"low\":[271.25,271.16,270.89,266.0,262.443,263.1,267.5499,268.52,269.0,258.0,260.93,261.32,260.6402,245.99,246.5434,242.62,247.14,247.63,244.45,238.6001,241.5,242.1,242.1,242.58,240.58,232.9,231.59,231.94,238.92,239.0,239.01,239.0,237.34,237.8,234.63,227.2,225.8,227.775,225.63,221.4,221.41,223.03,222.24,223.08,227.96,226.73,226.0,228.295,239.92,239.79,237.71,235.2513,236.44,236.86,235.83,238.134,237.21,236.82,237.0,237.56,235.02,238.95,243.48,241.92,240.11],\"open\":[271.35,272.31,272.49,266.06,266.6,263.23,267.5499,269.65,269.35,258.22,264.35,261.61,261.41,246.61,246.68,243.67,247.15,248.0,244.72,240.38,242.3334,242.21,242.61,242.77,241.6,233.22,231.65,234.36,239.36,239.0,239.02,239.26,237.6,238.74,234.7,228.79,226.4453,229.16,225.8,221.71,221.93,223.58,223.11,224.19,228.86,227.555,228.98,232.86,240.0,239.79,238.07,235.76,236.63,237.54,238.85,240.0199,237.44,238.23,237.64,237.56,235.02,240.65,244.39,242.15,242.59],\"x\":[\"2023-02-13T19:00:00\",\"2023-02-13T14:00:00\",\"2023-02-13T11:00:00\",\"2023-02-13T10:00:00\",\"2023-02-13T09:00:00\",\"2023-02-09T20:00:00\",\"2023-02-08T20:00:00\",\"2023-02-08T13:00:00\",\"2023-02-07T20:00:00\",\"2023-02-03T20:00:00\",\"2023-02-02T15:00:00\",\"2023-02-02T14:00:00\",\"2023-02-02T13:00:00\",\"2023-01-31T16:00:00\",\"2023-01-31T15:00:00\",\"2023-01-30T13:00:00\",\"2023-01-27T08:00:00\",\"2023-01-26T17:00:00\",\"2023-01-26T15:00:00\",\"2023-01-24T20:00:00\",\"2023-01-24T09:00:00\",\"2023-01-24T08:00:00\",\"2023-01-24T07:00:00\",\"2023-01-23T18:00:00\",\"2023-01-23T11:00:00\",\"2023-01-19T15:00:00\",\"2023-01-19T14:00:00\",\"2023-01-19T10:00:00\",\"2023-01-17T13:00:00\",\"2023-01-13T20:00:00\",\"2023-01-13T19:00:00\",\"2023-01-13T18:00:00\",\"2023-01-13T15:00:00\",\"2023-01-13T07:00:00\",\"2023-01-12T11:00:00\",\"2023-01-10T10:00:00\",\"2023-01-10T09:00:00\",\"2023-01-09T15:00:00\",\"2023-01-09T09:00:00\",\"2023-01-06T09:00:00\",\"2023-01-06T08:00:00\",\"2023-01-05T15:00:00\",\"2023-01-05T13:00:00\",\"2023-01-05T12:00:00\",\"2023-01-04T13:00:00\",\"2023-01-04T12:00:00\",\"2023-01-04T11:00:00\",\"2023-01-04T10:00:00\",\"2022-12-30T20:00:00\",\"2022-12-30T07:00:00\",\"2022-12-29T11:00:00\",\"2022-12-28T13:00:00\",\"2022-12-27T16:00:00\",\"2022-12-27T13:00:00\",\"2022-12-27T10:00:00\",\"2022-12-27T09:00:00\",\"2022-12-23T15:00:00\",\"2022-12-23T09:00:00\",\"2022-12-22T20:00:00\",\"2022-12-22T18:00:00\",\"2022-12-22T15:00:00\",\"2022-12-22T10:00:00\",\"2022-12-21T12:00:00\",\"2022-12-21T11:00:00\",\"2022-12-21T10:00:00\"],\"type\":\"candlestick\"},{\"line\":{\"color\":\"grey\"},\"x\":[\"2023-02-13T19:00:00\",\"2023-02-13T14:00:00\",\"2023-02-13T11:00:00\",\"2023-02-13T10:00:00\",\"2023-02-13T09:00:00\",\"2023-02-09T20:00:00\",\"2023-02-08T20:00:00\",\"2023-02-08T13:00:00\",\"2023-02-07T20:00:00\",\"2023-02-03T20:00:00\",\"2023-02-02T15:00:00\",\"2023-02-02T14:00:00\",\"2023-02-02T13:00:00\",\"2023-01-31T16:00:00\",\"2023-01-31T15:00:00\",\"2023-01-30T13:00:00\",\"2023-01-27T08:00:00\",\"2023-01-26T17:00:00\",\"2023-01-26T15:00:00\",\"2023-01-24T20:00:00\",\"2023-01-24T09:00:00\",\"2023-01-24T08:00:00\",\"2023-01-24T07:00:00\",\"2023-01-23T18:00:00\",\"2023-01-23T11:00:00\",\"2023-01-19T15:00:00\",\"2023-01-19T14:00:00\",\"2023-01-19T10:00:00\",\"2023-01-17T13:00:00\",\"2023-01-13T20:00:00\",\"2023-01-13T19:00:00\",\"2023-01-13T18:00:00\",\"2023-01-13T15:00:00\",\"2023-01-13T07:00:00\",\"2023-01-12T11:00:00\",\"2023-01-10T10:00:00\",\"2023-01-10T09:00:00\",\"2023-01-09T15:00:00\",\"2023-01-09T09:00:00\",\"2023-01-06T09:00:00\",\"2023-01-06T08:00:00\",\"2023-01-05T15:00:00\",\"2023-01-05T13:00:00\",\"2023-01-05T12:00:00\",\"2023-01-04T13:00:00\",\"2023-01-04T12:00:00\",\"2023-01-04T11:00:00\",\"2023-01-04T10:00:00\",\"2022-12-30T20:00:00\",\"2022-12-30T07:00:00\",\"2022-12-29T11:00:00\",\"2022-12-28T13:00:00\",\"2022-12-27T16:00:00\",\"2022-12-27T13:00:00\",\"2022-12-27T10:00:00\",\"2022-12-27T09:00:00\",\"2022-12-23T15:00:00\",\"2022-12-23T09:00:00\",\"2022-12-22T20:00:00\",\"2022-12-22T18:00:00\",\"2022-12-22T15:00:00\",\"2022-12-22T10:00:00\",\"2022-12-21T12:00:00\",\"2022-12-21T11:00:00\",\"2022-12-21T10:00:00\"],\"y\":[272.0401533333333,271.82108666666664,272.1136466666666,272.14726666666667,271.7222666666667,261.73333333333335,268.54533333333336,269.62198666666666,269.99031333333335,256.59033999999997,261.80033333333336,262.0604466666667,262.0724466666667,247.17266,247.13732666666664,242.85763333333333,247.67200666666668,247.68334,247.49200666666667,237.85902,242.0184133333333,242.47041333333334,242.88108,242.3684133333333,242.85233333333335,233.80168,233.46301333333335,232.36520666666667,240.17502,239.15435333333332,239.09102,239.02702000000002,238.74000000000004,237.79034,238.32887333333332,228.97899333333334,228.90832666666668,227.63732666666664,227.93448666666666,224.37447999999998,224.13314666666665,222.47248000000002,222.51033999999999,222.52934000000002,228.10522666666665,228.41522666666665,228.57989333333333,228.69389333333336,240.35026666666667,239.33406000000002,240.24562,235.99527333333333,236.99809999999997,237.11348666666666,237.07858666666667,237.17658666666665,238.5254533333333,238.23745333333332,237.87345333333332,237.80666666666667,237.70126666666664,237.47593333333333,243.86453333333336,244.19053333333335,244.28341333333336],\"type\":\"scatter\"}],                        {\"template\":{\"data\":{\"histogram2dcontour\":[{\"type\":\"histogram2dcontour\",\"colorbar\":{\"outlinewidth\":0,\"ticks\":\"\"},\"colorscale\":[[0.0,\"#0d0887\"],[0.1111111111111111,\"#46039f\"],[0.2222222222222222,\"#7201a8\"],[0.3333333333333333,\"#9c179e\"],[0.4444444444444444,\"#bd3786\"],[0.5555555555555556,\"#d8576b\"],[0.6666666666666666,\"#ed7953\"],[0.7777777777777778,\"#fb9f3a\"],[0.8888888888888888,\"#fdca26\"],[1.0,\"#f0f921\"]]}],\"choropleth\":[{\"type\":\"choropleth\",\"colorbar\":{\"outlinewidth\":0,\"ticks\":\"\"}}],\"histogram2d\":[{\"type\":\"histogram2d\",\"colorbar\":{\"outlinewidth\":0,\"ticks\":\"\"},\"colorscale\":[[0.0,\"#0d0887\"],[0.1111111111111111,\"#46039f\"],[0.2222222222222222,\"#7201a8\"],[0.3333333333333333,\"#9c179e\"],[0.4444444444444444,\"#bd3786\"],[0.5555555555555556,\"#d8576b\"],[0.6666666666666666,\"#ed7953\"],[0.7777777777777778,\"#fb9f3a\"],[0.8888888888888888,\"#fdca26\"],[1.0,\"#f0f921\"]]}],\"heatmap\":[{\"type\":\"heatmap\",\"colorbar\":{\"outlinewidth\":0,\"ticks\":\"\"},\"colorscale\":[[0.0,\"#0d0887\"],[0.1111111111111111,\"#46039f\"],[0.2222222222222222,\"#7201a8\"],[0.3333333333333333,\"#9c179e\"],[0.4444444444444444,\"#bd3786\"],[0.5555555555555556,\"#d8576b\"],[0.6666666666666666,\"#ed7953\"],[0.7777777777777778,\"#fb9f3a\"],[0.8888888888888888,\"#fdca26\"],[1.0,\"#f0f921\"]]}],\"heatmapgl\":[{\"type\":\"heatmapgl\",\"colorbar\":{\"outlinewidth\":0,\"ticks\":\"\"},\"colorscale\":[[0.0,\"#0d0887\"],[0.1111111111111111,\"#46039f\"],[0.2222222222222222,\"#7201a8\"],[0.3333333333333333,\"#9c179e\"],[0.4444444444444444,\"#bd3786\"],[0.5555555555555556,\"#d8576b\"],[0.6666666666666666,\"#ed7953\"],[0.7777777777777778,\"#fb9f3a\"],[0.8888888888888888,\"#fdca26\"],[1.0,\"#f0f921\"]]}],\"contourcarpet\":[{\"type\":\"contourcarpet\",\"colorbar\":{\"outlinewidth\":0,\"ticks\":\"\"}}],\"contour\":[{\"type\":\"contour\",\"colorbar\":{\"outlinewidth\":0,\"ticks\":\"\"},\"colorscale\":[[0.0,\"#0d0887\"],[0.1111111111111111,\"#46039f\"],[0.2222222222222222,\"#7201a8\"],[0.3333333333333333,\"#9c179e\"],[0.4444444444444444,\"#bd3786\"],[0.5555555555555556,\"#d8576b\"],[0.6666666666666666,\"#ed7953\"],[0.7777777777777778,\"#fb9f3a\"],[0.8888888888888888,\"#fdca26\"],[1.0,\"#f0f921\"]]}],\"surface\":[{\"type\":\"surface\",\"colorbar\":{\"outlinewidth\":0,\"ticks\":\"\"},\"colorscale\":[[0.0,\"#0d0887\"],[0.1111111111111111,\"#46039f\"],[0.2222222222222222,\"#7201a8\"],[0.3333333333333333,\"#9c179e\"],[0.4444444444444444,\"#bd3786\"],[0.5555555555555556,\"#d8576b\"],[0.6666666666666666,\"#ed7953\"],[0.7777777777777778,\"#fb9f3a\"],[0.8888888888888888,\"#fdca26\"],[1.0,\"#f0f921\"]]}],\"mesh3d\":[{\"type\":\"mesh3d\",\"colorbar\":{\"outlinewidth\":0,\"ticks\":\"\"}}],\"scatter\":[{\"fillpattern\":{\"fillmode\":\"overlay\",\"size\":10,\"solidity\":0.2},\"type\":\"scatter\"}],\"parcoords\":[{\"type\":\"parcoords\",\"line\":{\"colorbar\":{\"outlinewidth\":0,\"ticks\":\"\"}}}],\"scatterpolargl\":[{\"type\":\"scatterpolargl\",\"marker\":{\"colorbar\":{\"outlinewidth\":0,\"ticks\":\"\"}}}],\"bar\":[{\"error_x\":{\"color\":\"#2a3f5f\"},\"error_y\":{\"color\":\"#2a3f5f\"},\"marker\":{\"line\":{\"color\":\"#E5ECF6\",\"width\":0.5},\"pattern\":{\"fillmode\":\"overlay\",\"size\":10,\"solidity\":0.2}},\"type\":\"bar\"}],\"scattergeo\":[{\"type\":\"scattergeo\",\"marker\":{\"colorbar\":{\"outlinewidth\":0,\"ticks\":\"\"}}}],\"scatterpolar\":[{\"type\":\"scatterpolar\",\"marker\":{\"colorbar\":{\"outlinewidth\":0,\"ticks\":\"\"}}}],\"histogram\":[{\"marker\":{\"pattern\":{\"fillmode\":\"overlay\",\"size\":10,\"solidity\":0.2}},\"type\":\"histogram\"}],\"scattergl\":[{\"type\":\"scattergl\",\"marker\":{\"colorbar\":{\"outlinewidth\":0,\"ticks\":\"\"}}}],\"scatter3d\":[{\"type\":\"scatter3d\",\"line\":{\"colorbar\":{\"outlinewidth\":0,\"ticks\":\"\"}},\"marker\":{\"colorbar\":{\"outlinewidth\":0,\"ticks\":\"\"}}}],\"scattermapbox\":[{\"type\":\"scattermapbox\",\"marker\":{\"colorbar\":{\"outlinewidth\":0,\"ticks\":\"\"}}}],\"scatterternary\":[{\"type\":\"scatterternary\",\"marker\":{\"colorbar\":{\"outlinewidth\":0,\"ticks\":\"\"}}}],\"scattercarpet\":[{\"type\":\"scattercarpet\",\"marker\":{\"colorbar\":{\"outlinewidth\":0,\"ticks\":\"\"}}}],\"carpet\":[{\"aaxis\":{\"endlinecolor\":\"#2a3f5f\",\"gridcolor\":\"white\",\"linecolor\":\"white\",\"minorgridcolor\":\"white\",\"startlinecolor\":\"#2a3f5f\"},\"baxis\":{\"endlinecolor\":\"#2a3f5f\",\"gridcolor\":\"white\",\"linecolor\":\"white\",\"minorgridcolor\":\"white\",\"startlinecolor\":\"#2a3f5f\"},\"type\":\"carpet\"}],\"table\":[{\"cells\":{\"fill\":{\"color\":\"#EBF0F8\"},\"line\":{\"color\":\"white\"}},\"header\":{\"fill\":{\"color\":\"#C8D4E3\"},\"line\":{\"color\":\"white\"}},\"type\":\"table\"}],\"barpolar\":[{\"marker\":{\"line\":{\"color\":\"#E5ECF6\",\"width\":0.5},\"pattern\":{\"fillmode\":\"overlay\",\"size\":10,\"solidity\":0.2}},\"type\":\"barpolar\"}],\"pie\":[{\"automargin\":true,\"type\":\"pie\"}]},\"layout\":{\"autotypenumbers\":\"strict\",\"colorway\":[\"#636efa\",\"#EF553B\",\"#00cc96\",\"#ab63fa\",\"#FFA15A\",\"#19d3f3\",\"#FF6692\",\"#B6E880\",\"#FF97FF\",\"#FECB52\"],\"font\":{\"color\":\"#2a3f5f\"},\"hovermode\":\"closest\",\"hoverlabel\":{\"align\":\"left\"},\"paper_bgcolor\":\"white\",\"plot_bgcolor\":\"#E5ECF6\",\"polar\":{\"bgcolor\":\"#E5ECF6\",\"angularaxis\":{\"gridcolor\":\"white\",\"linecolor\":\"white\",\"ticks\":\"\"},\"radialaxis\":{\"gridcolor\":\"white\",\"linecolor\":\"white\",\"ticks\":\"\"}},\"ternary\":{\"bgcolor\":\"#E5ECF6\",\"aaxis\":{\"gridcolor\":\"white\",\"linecolor\":\"white\",\"ticks\":\"\"},\"baxis\":{\"gridcolor\":\"white\",\"linecolor\":\"white\",\"ticks\":\"\"},\"caxis\":{\"gridcolor\":\"white\",\"linecolor\":\"white\",\"ticks\":\"\"}},\"coloraxis\":{\"colorbar\":{\"outlinewidth\":0,\"ticks\":\"\"}},\"colorscale\":{\"sequential\":[[0.0,\"#0d0887\"],[0.1111111111111111,\"#46039f\"],[0.2222222222222222,\"#7201a8\"],[0.3333333333333333,\"#9c179e\"],[0.4444444444444444,\"#bd3786\"],[0.5555555555555556,\"#d8576b\"],[0.6666666666666666,\"#ed7953\"],[0.7777777777777778,\"#fb9f3a\"],[0.8888888888888888,\"#fdca26\"],[1.0,\"#f0f921\"]],\"sequentialminus\":[[0.0,\"#0d0887\"],[0.1111111111111111,\"#46039f\"],[0.2222222222222222,\"#7201a8\"],[0.3333333333333333,\"#9c179e\"],[0.4444444444444444,\"#bd3786\"],[0.5555555555555556,\"#d8576b\"],[0.6666666666666666,\"#ed7953\"],[0.7777777777777778,\"#fb9f3a\"],[0.8888888888888888,\"#fdca26\"],[1.0,\"#f0f921\"]],\"diverging\":[[0,\"#8e0152\"],[0.1,\"#c51b7d\"],[0.2,\"#de77ae\"],[0.3,\"#f1b6da\"],[0.4,\"#fde0ef\"],[0.5,\"#f7f7f7\"],[0.6,\"#e6f5d0\"],[0.7,\"#b8e186\"],[0.8,\"#7fbc41\"],[0.9,\"#4d9221\"],[1,\"#276419\"]]},\"xaxis\":{\"gridcolor\":\"white\",\"linecolor\":\"white\",\"ticks\":\"\",\"title\":{\"standoff\":15},\"zerolinecolor\":\"white\",\"automargin\":true,\"zerolinewidth\":2},\"yaxis\":{\"gridcolor\":\"white\",\"linecolor\":\"white\",\"ticks\":\"\",\"title\":{\"standoff\":15},\"zerolinecolor\":\"white\",\"automargin\":true,\"zerolinewidth\":2},\"scene\":{\"xaxis\":{\"backgroundcolor\":\"#E5ECF6\",\"gridcolor\":\"white\",\"linecolor\":\"white\",\"showbackground\":true,\"ticks\":\"\",\"zerolinecolor\":\"white\",\"gridwidth\":2},\"yaxis\":{\"backgroundcolor\":\"#E5ECF6\",\"gridcolor\":\"white\",\"linecolor\":\"white\",\"showbackground\":true,\"ticks\":\"\",\"zerolinecolor\":\"white\",\"gridwidth\":2},\"zaxis\":{\"backgroundcolor\":\"#E5ECF6\",\"gridcolor\":\"white\",\"linecolor\":\"white\",\"showbackground\":true,\"ticks\":\"\",\"zerolinecolor\":\"white\",\"gridwidth\":2}},\"shapedefaults\":{\"line\":{\"color\":\"#2a3f5f\"}},\"annotationdefaults\":{\"arrowcolor\":\"#2a3f5f\",\"arrowhead\":0,\"arrowwidth\":1},\"geo\":{\"bgcolor\":\"white\",\"landcolor\":\"#E5ECF6\",\"subunitcolor\":\"white\",\"showland\":true,\"showlakes\":true,\"lakecolor\":\"white\"},\"title\":{\"x\":0.05},\"mapbox\":{\"style\":\"light\"}}}},                        {\"responsive\": true}                    ).then(function(){\n",
       "                            \n",
       "var gd = document.getElementById('071b9c8a-b4c1-4e27-bba9-8a96e94bda74');\n",
       "var x = new MutationObserver(function (mutations, observer) {{\n",
       "        var display = window.getComputedStyle(gd).display;\n",
       "        if (!display || display === 'none') {{\n",
       "            console.log([gd, 'removed!']);\n",
       "            Plotly.purge(gd);\n",
       "            observer.disconnect();\n",
       "        }}\n",
       "}});\n",
       "\n",
       "// Listen for the removal of the full notebook cells\n",
       "var notebookContainer = gd.closest('#notebook-container');\n",
       "if (notebookContainer) {{\n",
       "    x.observe(notebookContainer, {childList: true});\n",
       "}}\n",
       "\n",
       "// Listen for the clearing of the current output cell\n",
       "var outputEl = gd.closest('.output');\n",
       "if (outputEl) {{\n",
       "    x.observe(outputEl, {childList: true});\n",
       "}}\n",
       "\n",
       "                        })                };                });            </script>        </div>"
      ]
     },
     "metadata": {},
     "output_type": "display_data"
    }
   ],
   "source": [
    "strategy = Strategy(\"MSFT\")\n",
    "strategy.run()"
   ]
  },
  {
   "cell_type": "code",
   "execution_count": null,
   "id": "50cf115a",
   "metadata": {},
   "outputs": [],
   "source": []
  }
 ],
 "metadata": {
  "kernelspec": {
   "display_name": "Python 3 (ipykernel)",
   "language": "python",
   "name": "python3"
  },
  "language_info": {
   "codemirror_mode": {
    "name": "ipython",
    "version": 3
   },
   "file_extension": ".py",
   "mimetype": "text/x-python",
   "name": "python",
   "nbconvert_exporter": "python",
   "pygments_lexer": "ipython3",
   "version": "3.10.10"
  }
 },
 "nbformat": 4,
 "nbformat_minor": 5
}
